{
 "cells": [
  {
   "cell_type": "code",
   "execution_count": 1,
   "id": "831807ea",
   "metadata": {},
   "outputs": [],
   "source": [
    "import numpy as np\n",
    "import pandas as pd\n",
    "from fractions import Fraction\n",
    "from fractions import gcd\n",
    "from functools import reduce\n",
    "from math import gcd\n",
    "import math"
   ]
  },
  {
   "cell_type": "code",
   "execution_count": 2,
   "id": "b85a34ff",
   "metadata": {},
   "outputs": [],
   "source": [
    "matrix = [\n",
    "  [0,1,0,0,0,1],  # s0, the initial state, goes to s1 and s5 with equal probability\n",
    "  [4,0,0,3,2,0],  # s1 can become s0, s3, or s4, but with different probabilities\n",
    "  [0,0,0,0,0,0],  # s2 is terminal, and unreachable (never observed in practice)\n",
    "  [0,0,0,0,0,0],  # s3 is terminal\n",
    "  [0,0,0,0,0,0],  # s4 is terminal\n",
    "  [0,0,0,0,0,0],  # s5 is terminal\n",
    "]"
   ]
  },
  {
   "cell_type": "code",
   "execution_count": 3,
   "id": "dcee795d",
   "metadata": {},
   "outputs": [],
   "source": [
    "matrix2 = [[0, 2, 1, 0, 0],\n",
    " [0, 0, 0, 3, 4],\n",
    " [0, 0, 0, 0, 0], \n",
    " [0, 0, 0, 0,0], \n",
    " [0, 0, 0, 0, 0]]"
   ]
  },
  {
   "cell_type": "code",
   "execution_count": 4,
   "id": "b4fa2467",
   "metadata": {},
   "outputs": [],
   "source": [
    "matrix3 = [[0, 1, 0, 0, 0, 1],\n",
    "           [4, 0, 0, 3, 2, 0], \n",
    "           [0, 0, 0, 0, 0, 0], \n",
    "           [0, 0, 0, 0, 0, 0], \n",
    "           [0, 0, 0, 0, 0, 0], \n",
    "           [0, 0, 0, 0, 0, 0]]"
   ]
  },
  {
   "cell_type": "code",
   "execution_count": 5,
   "id": "91e6c1ec",
   "metadata": {},
   "outputs": [],
   "source": [
    "def solution(m):\n",
    "    m_matrix = np.asarray(m)\n",
    "    rows , cols = m_matrix.shape[0], m_matrix.shape[1]\n",
    "    \n",
    "    identity = []\n",
    "    rq_matrix = []\n",
    "    combine = []\n",
    "    \n",
    "    init_matrix = np.zeros((1,cols))\n",
    "    \n",
    "    for i in range(rows):\n",
    "        if sum(m_matrix[i]) == 0:\n",
    "            init_matrix=np.vstack((init_matrix, m_matrix[i]))\n",
    "            identity.append(i)\n",
    "            combine.append(i)\n",
    "    for i in range(rows):\n",
    "        if sum(m_matrix[i]) != 0:\n",
    "            init_matrix=np.vstack((init_matrix, m_matrix[i]))\n",
    "            rq_matrix.append(i)\n",
    "            combine.append(i)\n",
    "    init_matrix = np.delete(init_matrix,0,0)\n",
    "    init_matrix = init_matrix[:,combine]\n",
    "    \n",
    "    rq_matrix = np.delete(init_matrix,range(len(identity)),0)\n",
    "    \n",
    "    R = rq_matrix[:,range(len(identity))]\n",
    "    Q = np.delete(rq_matrix,range(len(identity)),1)\n",
    "    #frac_list=[]\n",
    "    for i in range(Q.shape[0]):\n",
    "        for j in range(Q.shape[1]):\n",
    "            Q[i,j] = Q[i,j]/sum(rq_matrix[i])\n",
    "    F = np.linalg.inv(np.eye(len(Q)) - Q)\n",
    "    \n",
    "    for i in range(R.shape[0]):\n",
    "        for j in range(R.shape[1]):\n",
    "            R[i,j] = R[i,j]/sum(rq_matrix[i])\n",
    "    FR = np.dot(F,R)\n",
    "    \n",
    "    numerator =[]\n",
    "    denominator=[]\n",
    "    \n",
    "    for i in range(FR.shape[0]):\n",
    "        for j in range(FR.shape[1]):\n",
    "            #frac_list.append(str(Fraction(FR[i,j]).limit_denominator()))\n",
    "            numerator.append(Fraction(FR[i,j]).limit_denominator().numerator)\n",
    "            denominator.append(Fraction(FR[i,j]).limit_denominator().denominator)\n",
    "    #frac_list = frac_list[:len(identity)]\n",
    "    \n",
    "    numerator = numerator[:len(identity)]\n",
    "    denominator = denominator[:len(identity)]\n",
    "    denominator2 = denominator.copy()\n",
    "    for i in range(len(denominator2)-1):\n",
    "        if denominator2[i] == 1:\n",
    "            denominator2.remove(denominator2[i])\n",
    "    \n",
    "    my_lcm = 1\n",
    "    for i in denominator2:\n",
    "        my_lcm = my_lcm*i//gcd(my_lcm,i)\n",
    "    \n",
    "    mult_list = []\n",
    "    for i in range(len(denominator)):\n",
    "        div = my_lcm/denominator[i]\n",
    "        if div == my_lcm:\n",
    "            mult_list.append(0)\n",
    "        elif div == 1:\n",
    "            mult_list.append(1)\n",
    "        else:\n",
    "            mult_list.append(int(div))\n",
    "    \n",
    "    result =[]\n",
    "    for i in range(len(numerator)):\n",
    "        result.append(numerator[i]*mult_list[i])\n",
    "    result.append(my_lcm)\n",
    "    return result"
   ]
  },
  {
   "cell_type": "code",
   "execution_count": 7,
   "id": "aa1cdbe3",
   "metadata": {},
   "outputs": [
    {
     "data": {
      "text/plain": [
       "[0, 3, 2, 9, 14]"
      ]
     },
     "execution_count": 7,
     "metadata": {},
     "output_type": "execute_result"
    }
   ],
   "source": [
    "solution(matrix)"
   ]
  },
  {
   "cell_type": "code",
   "execution_count": 8,
   "id": "d42319bd",
   "metadata": {},
   "outputs": [
    {
     "data": {
      "text/plain": [
       "[7, 6, 8, 21]"
      ]
     },
     "execution_count": 8,
     "metadata": {},
     "output_type": "execute_result"
    }
   ],
   "source": [
    "solution(matrix2)"
   ]
  },
  {
   "cell_type": "code",
   "execution_count": 9,
   "id": "4c94bae7",
   "metadata": {},
   "outputs": [
    {
     "data": {
      "text/plain": [
       "[0, 3, 2, 9, 14]"
      ]
     },
     "execution_count": 9,
     "metadata": {},
     "output_type": "execute_result"
    }
   ],
   "source": [
    "solution(matrix3)"
   ]
  },
  {
   "cell_type": "code",
   "execution_count": null,
   "id": "d8034718",
   "metadata": {},
   "outputs": [],
   "source": []
  }
 ],
 "metadata": {
  "kernelspec": {
   "display_name": "Python 3",
   "language": "python",
   "name": "python3"
  },
  "language_info": {
   "codemirror_mode": {
    "name": "ipython",
    "version": 3
   },
   "file_extension": ".py",
   "mimetype": "text/x-python",
   "name": "python",
   "nbconvert_exporter": "python",
   "pygments_lexer": "ipython3",
   "version": "3.8.11"
  }
 },
 "nbformat": 4,
 "nbformat_minor": 5
}
